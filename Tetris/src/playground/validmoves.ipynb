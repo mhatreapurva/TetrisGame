{
 "cells": [
  {
   "cell_type": "code",
   "execution_count": 190,
   "metadata": {},
   "outputs": [],
   "source": [
    "import numpy as np\n",
    "import sys\n",
    "sys.path.append(\"..\")\n",
    "from modules import shape as shx\n",
    "from modules import grid\n",
    "from scipy import signal"
   ]
  },
  {
   "cell_type": "code",
   "execution_count": 128,
   "metadata": {},
   "outputs": [],
   "source": [
    "def validPositions(shape, GRID): #No of children's\n",
    "    # returns set of positions where the block can be fixed\n",
    "    ROW, COL = GRID.shape\n",
    "    #print(f\"Shape: {GRID.shape}\")\n",
    "    a,b = np.nonzero(shape) # a -> row | b-> col indices.\n",
    "    #returns positions that need to be 0.\n",
    "    pos = np.array(list(zip(a,b))) #tuple of arrays --> array of tuples.\n",
    "    valid = []\n",
    "    for row in range(ROW-1,-1,-1):\n",
    "        print(\"C1\")\n",
    "        for col in range(COL-1,-1,-1): #Traverse through the grid.\n",
    "            if all([a+row < ROW for a,_ in pos]) and all([b+col < COL for _,b in pos]) and all([GRID[a + row][b + col] == 0 for a,b in pos]):\n",
    "\n",
    "                baseBlocks = np.argwhere(shape > 1)\n",
    "                #print(f\"ROW:{row} COL:{col} baseBlocks:{baseBlocks}\")\n",
    "                check = True\n",
    "                for a,_ in baseBlocks:\n",
    "                    if a + row + 1 == ROW:\n",
    "                        valid.append((row,col))\n",
    "                        check = False\n",
    "                        break\n",
    "\n",
    "                if check:\n",
    "                    if any([GRID[a + row + 1][b + col] == 1 for a,b in baseBlocks]):\n",
    "                        valid.append((row,col))\n",
    "    return valid"
   ]
  },
  {
   "cell_type": "code",
   "execution_count": 121,
   "metadata": {},
   "outputs": [],
   "source": [
    "from collections import defaultdict\n",
    "val = defaultdict(int)\n",
    "for row,col in zip(x[0],x[1]):\n",
    "    val[col] = row\n",
    "valid = []\n",
    "for col,row in val.items():\n",
    "    valid.append((row,col))\n"
   ]
  },
  {
   "cell_type": "code",
   "execution_count": 182,
   "metadata": {},
   "outputs": [],
   "source": [
    "def numpyValidMoves(shape, GRID):\n",
    "    if GRID is None: return []\n",
    "    pos = signal.convolve2d(in1 = (1-GRID), in2= shape[::-1, ::-1],mode=\"valid\")\n",
    "    pos = np.where(pos == np.sum(shape))\n",
    "    val = defaultdict(int)\n",
    "    for row,col in zip(pos[0],pos[1]):\n",
    "        val[col] = row\n",
    "    valid = []\n",
    "    for col,row in val.items():\n",
    "        valid.append((row,col))\n",
    "    return valid\n",
    "    \n",
    "    "
   ]
  },
  {
   "cell_type": "code",
   "execution_count": 187,
   "metadata": {},
   "outputs": [],
   "source": []
  },
  {
   "cell_type": "code",
   "execution_count": 184,
   "metadata": {},
   "outputs": [
    {
     "name": "stdout",
     "output_type": "stream",
     "text": [
      "[[0 0 0 0 0]\n",
      " [0 0 0 0 0]\n",
      " [1 0 0 0 1]]\n"
     ]
    }
   ],
   "source": [
    "print(TETRIS)"
   ]
  },
  {
   "cell_type": "code",
   "execution_count": 185,
   "metadata": {},
   "outputs": [
    {
     "data": {
      "text/plain": [
       "[(1, 0), (1, 1), (1, 2)]"
      ]
     },
     "execution_count": 185,
     "metadata": {},
     "output_type": "execute_result"
    }
   ],
   "source": [
    "numpyValidMoves(shape = currShape, GRID = TETRIS)"
   ]
  },
  {
   "cell_type": "code",
   "execution_count": 186,
   "metadata": {},
   "outputs": [
    {
     "data": {
      "text/plain": [
       "array([[4, 4, 4],\n",
       "       [4, 4, 4]])"
      ]
     },
     "execution_count": 186,
     "metadata": {},
     "output_type": "execute_result"
    }
   ],
   "source": [
    "#signal.convolve2d(in1 = (1-TETRIS), in2= currShape[::-1, ::-1],mode=\"valid\")"
   ]
  },
  {
   "cell_type": "code",
   "execution_count": 194,
   "metadata": {},
   "outputs": [],
   "source": [
    "s = shx.Shape()\n",
    "s.printGridStates(shape = currShape, GRID = TETRIS)"
   ]
  },
  {
   "cell_type": "code",
   "execution_count": null,
   "metadata": {},
   "outputs": [],
   "source": []
  }
 ],
 "metadata": {
  "kernelspec": {
   "display_name": "Python 3.10.0 64-bit",
   "language": "python",
   "name": "python3"
  },
  "language_info": {
   "codemirror_mode": {
    "name": "ipython",
    "version": 3
   },
   "file_extension": ".py",
   "mimetype": "text/x-python",
   "name": "python",
   "nbconvert_exporter": "python",
   "pygments_lexer": "ipython3",
   "version": "3.10.0"
  },
  "orig_nbformat": 4,
  "vscode": {
   "interpreter": {
    "hash": "c0bd0d9740b23b9a733e53da554c19654bba1589cc4de98f94bb0f7a8a5d4c24"
   }
  }
 },
 "nbformat": 4,
 "nbformat_minor": 2
}
